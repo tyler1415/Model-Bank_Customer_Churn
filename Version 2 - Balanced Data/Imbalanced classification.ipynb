{
 "cells": [
  {
   "cell_type": "markdown",
   "metadata": {},
   "source": [
    "# import Python library, load the credit.csv data, convert Sex, Education, Marriage into dummies, and split the data into a training (70%) and a testing set (30%)"
   ]
  },
  {
   "cell_type": "code",
   "execution_count": 111,
   "metadata": {},
   "outputs": [
    {
     "data": {
      "text/html": [
       "<div>\n",
       "<style scoped>\n",
       "    .dataframe tbody tr th:only-of-type {\n",
       "        vertical-align: middle;\n",
       "    }\n",
       "\n",
       "    .dataframe tbody tr th {\n",
       "        vertical-align: top;\n",
       "    }\n",
       "\n",
       "    .dataframe thead th {\n",
       "        text-align: right;\n",
       "    }\n",
       "</style>\n",
       "<table border=\"1\" class=\"dataframe\">\n",
       "  <thead>\n",
       "    <tr style=\"text-align: right;\">\n",
       "      <th></th>\n",
       "      <th>Male</th>\n",
       "      <th>Grad</th>\n",
       "      <th>Uni</th>\n",
       "      <th>High</th>\n",
       "      <th>Married</th>\n",
       "      <th>Single</th>\n",
       "      <th>LIMIT_BAL</th>\n",
       "      <th>AGE</th>\n",
       "      <th>PAY_0</th>\n",
       "      <th>PAY_2</th>\n",
       "      <th>...</th>\n",
       "      <th>BILL_AMT4</th>\n",
       "      <th>BILL_AMT5</th>\n",
       "      <th>BILL_AMT6</th>\n",
       "      <th>PAY_AMT1</th>\n",
       "      <th>PAY_AMT2</th>\n",
       "      <th>PAY_AMT3</th>\n",
       "      <th>PAY_AMT4</th>\n",
       "      <th>PAY_AMT5</th>\n",
       "      <th>PAY_AMT6</th>\n",
       "      <th>default payment next month</th>\n",
       "    </tr>\n",
       "  </thead>\n",
       "  <tbody>\n",
       "    <tr>\n",
       "      <th>0</th>\n",
       "      <td>0</td>\n",
       "      <td>0</td>\n",
       "      <td>1</td>\n",
       "      <td>0</td>\n",
       "      <td>1</td>\n",
       "      <td>0</td>\n",
       "      <td>20000</td>\n",
       "      <td>24</td>\n",
       "      <td>2</td>\n",
       "      <td>2</td>\n",
       "      <td>...</td>\n",
       "      <td>0</td>\n",
       "      <td>0</td>\n",
       "      <td>0</td>\n",
       "      <td>0</td>\n",
       "      <td>689</td>\n",
       "      <td>0</td>\n",
       "      <td>0</td>\n",
       "      <td>0</td>\n",
       "      <td>0</td>\n",
       "      <td>1</td>\n",
       "    </tr>\n",
       "    <tr>\n",
       "      <th>1</th>\n",
       "      <td>0</td>\n",
       "      <td>0</td>\n",
       "      <td>1</td>\n",
       "      <td>0</td>\n",
       "      <td>0</td>\n",
       "      <td>1</td>\n",
       "      <td>120000</td>\n",
       "      <td>26</td>\n",
       "      <td>-1</td>\n",
       "      <td>2</td>\n",
       "      <td>...</td>\n",
       "      <td>3272</td>\n",
       "      <td>3455</td>\n",
       "      <td>3261</td>\n",
       "      <td>0</td>\n",
       "      <td>1000</td>\n",
       "      <td>1000</td>\n",
       "      <td>1000</td>\n",
       "      <td>0</td>\n",
       "      <td>2000</td>\n",
       "      <td>1</td>\n",
       "    </tr>\n",
       "    <tr>\n",
       "      <th>2</th>\n",
       "      <td>0</td>\n",
       "      <td>0</td>\n",
       "      <td>1</td>\n",
       "      <td>0</td>\n",
       "      <td>0</td>\n",
       "      <td>1</td>\n",
       "      <td>90000</td>\n",
       "      <td>34</td>\n",
       "      <td>0</td>\n",
       "      <td>0</td>\n",
       "      <td>...</td>\n",
       "      <td>14331</td>\n",
       "      <td>14948</td>\n",
       "      <td>15549</td>\n",
       "      <td>1518</td>\n",
       "      <td>1500</td>\n",
       "      <td>1000</td>\n",
       "      <td>1000</td>\n",
       "      <td>1000</td>\n",
       "      <td>5000</td>\n",
       "      <td>0</td>\n",
       "    </tr>\n",
       "    <tr>\n",
       "      <th>3</th>\n",
       "      <td>0</td>\n",
       "      <td>0</td>\n",
       "      <td>1</td>\n",
       "      <td>0</td>\n",
       "      <td>1</td>\n",
       "      <td>0</td>\n",
       "      <td>50000</td>\n",
       "      <td>37</td>\n",
       "      <td>0</td>\n",
       "      <td>0</td>\n",
       "      <td>...</td>\n",
       "      <td>28314</td>\n",
       "      <td>28959</td>\n",
       "      <td>29547</td>\n",
       "      <td>2000</td>\n",
       "      <td>2019</td>\n",
       "      <td>1200</td>\n",
       "      <td>1100</td>\n",
       "      <td>1069</td>\n",
       "      <td>1000</td>\n",
       "      <td>0</td>\n",
       "    </tr>\n",
       "    <tr>\n",
       "      <th>4</th>\n",
       "      <td>1</td>\n",
       "      <td>0</td>\n",
       "      <td>1</td>\n",
       "      <td>0</td>\n",
       "      <td>1</td>\n",
       "      <td>0</td>\n",
       "      <td>50000</td>\n",
       "      <td>57</td>\n",
       "      <td>-1</td>\n",
       "      <td>0</td>\n",
       "      <td>...</td>\n",
       "      <td>20940</td>\n",
       "      <td>19146</td>\n",
       "      <td>19131</td>\n",
       "      <td>2000</td>\n",
       "      <td>36681</td>\n",
       "      <td>10000</td>\n",
       "      <td>9000</td>\n",
       "      <td>689</td>\n",
       "      <td>679</td>\n",
       "      <td>0</td>\n",
       "    </tr>\n",
       "  </tbody>\n",
       "</table>\n",
       "<p>5 rows × 27 columns</p>\n",
       "</div>"
      ],
      "text/plain": [
       "   Male  Grad  Uni  High  Married  Single  LIMIT_BAL  AGE  PAY_0  PAY_2  ...  \\\n",
       "0     0     0    1     0        1       0      20000   24      2      2  ...   \n",
       "1     0     0    1     0        0       1     120000   26     -1      2  ...   \n",
       "2     0     0    1     0        0       1      90000   34      0      0  ...   \n",
       "3     0     0    1     0        1       0      50000   37      0      0  ...   \n",
       "4     1     0    1     0        1       0      50000   57     -1      0  ...   \n",
       "\n",
       "   BILL_AMT4  BILL_AMT5  BILL_AMT6  PAY_AMT1  PAY_AMT2  PAY_AMT3  PAY_AMT4  \\\n",
       "0          0          0          0         0       689         0         0   \n",
       "1       3272       3455       3261         0      1000      1000      1000   \n",
       "2      14331      14948      15549      1518      1500      1000      1000   \n",
       "3      28314      28959      29547      2000      2019      1200      1100   \n",
       "4      20940      19146      19131      2000     36681     10000      9000   \n",
       "\n",
       "   PAY_AMT5  PAY_AMT6  default payment next month  \n",
       "0         0         0                           1  \n",
       "1         0      2000                           1  \n",
       "2      1000      5000                           0  \n",
       "3      1069      1000                           0  \n",
       "4       689       679                           0  \n",
       "\n",
       "[5 rows x 27 columns]"
      ]
     },
     "execution_count": 111,
     "metadata": {},
     "output_type": "execute_result"
    }
   ],
   "source": [
    "import pandas as pd\n",
    "import numpy as np\n",
    "import matplotlib.pyplot as plt\n",
    "from sklearn.model_selection import train_test_split\n",
    "\n",
    "data = pd.read_csv(\"c:\\\\MSC 550\\\\Lecture\\\\Week12\\\\Default2.csv\")\n",
    "SEX = pd.get_dummies(data.SEX)\n",
    "SEX=SEX.rename(columns = {1: \"Male\", 2:\"Female\"}).iloc[:, :-1]\n",
    "EDUCATION = pd.get_dummies(data.EDUCATION)\n",
    "EDUCATION=EDUCATION.rename(columns = {1: \"Grad\", 2:\"Uni\", 3:\"High\", 4:\"Others\"}).iloc[:, :-1]\n",
    "MARRIAGE = pd.get_dummies(data.MARRIAGE)\n",
    "MARRIAGE=MARRIAGE.rename(columns = {1: \"Married\", 2:\"Single\", 3:\"Others\"}).iloc[:, :-1]\n",
    "data = pd.concat([SEX, EDUCATION,MARRIAGE,data], axis=1).drop(['SEX', 'EDUCATION',\"MARRIAGE\"], axis=1)\n",
    "\n",
    "data.head()"
   ]
  },
  {
   "cell_type": "code",
   "execution_count": 112,
   "metadata": {},
   "outputs": [],
   "source": [
    "x = data.iloc[:, :-1]\n",
    "y = data.iloc[:, -1:]\n",
    "x_train, x_test, y_train, y_test = train_test_split(x, y, test_size=0.30, random_state = 0)"
   ]
  },
  {
   "cell_type": "code",
   "execution_count": 68,
   "metadata": {},
   "outputs": [
    {
     "data": {
      "image/png": "[encoded data removed]",
      "text/plain": [
       "<Figure size 432x288 with 1 Axes>"
      ]
     },
     "metadata": {
      "needs_background": "light"
     },
     "output_type": "display_data"
    }
   ],
   "source": [
    "import seaborn as sns\n",
    "ax = sns.countplot(x=y_train[\"default payment next month\"])\n",
    "for p in ax.patches:\n",
    "        ax.annotate('{:.1f}'.format(p.get_height()), (p.get_x()+0.3, p.get_height()+50))"
   ]
  },
  {
   "cell_type": "markdown",
   "metadata": {},
   "source": [
    "# Fit a logistic regression with Logit function from statsmodels, and predict on the test set"
   ]
  },
  {
   "cell_type": "code",
   "execution_count": 113,
   "metadata": {},
   "outputs": [
    {
     "name": "stdout",
     "output_type": "stream",
     "text": [
      "Optimization terminated successfully.\n",
      "         Current function value: 0.466638\n",
      "         Iterations 7\n",
      "                               Logit Regression Results                               \n",
      "======================================================================================\n",
      "Dep. Variable:     default payment next month   No. Observations:                21000\n",
      "Model:                                  Logit   Df Residuals:                    20973\n",
      "Method:                                   MLE   Df Model:                           26\n",
      "Date:                        Wed, 09 Nov 2022   Pseudo R-squ.:                  0.1220\n",
      "Time:                                16:18:57   Log-Likelihood:                -9799.4\n",
      "converged:                               True   LL-Null:                       -11160.\n",
      "Covariance Type:                    nonrobust   LLR p-value:                     0.000\n",
      "==============================================================================\n",
      "                 coef    std err          z      P>|z|      [0.025      0.975]\n",
      "------------------------------------------------------------------------------\n",
      "const         -2.3857      0.291     -8.208      0.000      -2.955      -1.816\n",
      "Male           0.1389      0.036      3.808      0.000       0.067       0.210\n",
      "Grad           1.2243      0.231      5.294      0.000       0.771       1.677\n",
      "Uni            1.1267      0.230      4.891      0.000       0.675       1.578\n",
      "High           1.0359      0.233      4.444      0.000       0.579       1.493\n",
      "Married        0.1216      0.157      0.773      0.440      -0.187       0.430\n",
      "Single        -0.0924      0.159     -0.581      0.561      -0.404       0.219\n",
      "LIMIT_BAL      -6e-07   1.87e-07     -3.202      0.001   -9.67e-07   -2.33e-07\n",
      "AGE            0.0053      0.002      2.400      0.016       0.001       0.010\n",
      "PAY_0          0.5288      0.021     25.086      0.000       0.487       0.570\n",
      "PAY_2          0.1028      0.024      4.322      0.000       0.056       0.149\n",
      "PAY_3          0.0686      0.027      2.562      0.010       0.016       0.121\n",
      "PAY_4          0.0030      0.030      0.101      0.919      -0.055       0.061\n",
      "PAY_5          0.0331      0.032      1.038      0.299      -0.029       0.096\n",
      "PAY_6          0.0446      0.026      1.720      0.085      -0.006       0.095\n",
      "BILL_AMT1   -7.24e-06   1.44e-06     -5.017      0.000   -1.01e-05   -4.41e-06\n",
      "BILL_AMT2   2.301e-06    1.9e-06      1.208      0.227   -1.43e-06    6.03e-06\n",
      "BILL_AMT3   2.858e-06   1.59e-06      1.798      0.072   -2.57e-07    5.97e-06\n",
      "BILL_AMT4   5.221e-07    1.6e-06      0.327      0.744   -2.61e-06    3.65e-06\n",
      "BILL_AMT5   3.478e-07   1.86e-06      0.187      0.852    -3.3e-06       4e-06\n",
      "BILL_AMT6   5.508e-07   1.46e-06      0.378      0.706   -2.31e-06    3.41e-06\n",
      "PAY_AMT1   -1.709e-05   2.97e-06     -5.762      0.000   -2.29e-05   -1.13e-05\n",
      "PAY_AMT2   -1.035e-05    2.5e-06     -4.142      0.000   -1.53e-05   -5.45e-06\n",
      "PAY_AMT3   -6.406e-06   2.35e-06     -2.728      0.006    -1.1e-05    -1.8e-06\n",
      "PAY_AMT4   -4.116e-06   2.14e-06     -1.926      0.054    -8.3e-06    7.29e-08\n",
      "PAY_AMT5    -3.09e-06   2.12e-06     -1.459      0.145   -7.24e-06    1.06e-06\n",
      "PAY_AMT6   -2.357e-06    1.6e-06     -1.471      0.141    -5.5e-06    7.82e-07\n",
      "==============================================================================\n"
     ]
    }
   ],
   "source": [
    "import statsmodels.api as sm\n",
    "model=sm.Logit(y_train, sm.add_constant(x_train))\n",
    "lr = model.fit()\n",
    "print(lr.summary())\n",
    "p_pred = lr.predict(sm.add_constant(x_test))\n",
    "y_pred = round(p_pred)"
   ]
  },
  {
   "cell_type": "markdown",
   "metadata": {},
   "source": [
    "# Model assessment"
   ]
  },
  {
   "cell_type": "code",
   "execution_count": 114,
   "metadata": {},
   "outputs": [
    {
     "name": "stdout",
     "output_type": "stream",
     "text": [
      "0.8168888888888889\n",
      "[[6900  160]\n",
      " [1488  452]]\n"
     ]
    }
   ],
   "source": [
    "from sklearn import metrics\n",
    "print(metrics.accuracy_score(y_test, y_pred))\n",
    "from sklearn.metrics import confusion_matrix\n",
    "print(confusion_matrix(y_test, y_pred))"
   ]
  },
  {
   "cell_type": "code",
   "execution_count": 115,
   "metadata": {},
   "outputs": [
    {
     "data": {
      "text/plain": [
       "Text(0, 0.5, 'True Positive Rate')"
      ]
     },
     "execution_count": 115,
     "metadata": {},
     "output_type": "execute_result"
    },
    {
     "data": {
      "image/png": "[encoded data removed]",
      "text/plain": [
       "<Figure size 432x288 with 1 Axes>"
      ]
     },
     "metadata": {
      "needs_background": "light"
     },
     "output_type": "display_data"
    }
   ],
   "source": [
    "from sklearn.metrics import roc_curve\n",
    "from sklearn.metrics import roc_auc_score\n",
    "mr_probs = [0 for _ in range(len(y_test))]\n",
    "mr_fpr, mr_tpr, _ = roc_curve(y_test, mr_probs)\n",
    "lr_fpr, lr_tpr, _ = roc_curve(y_test, p_pred)\n",
    "plt.plot(mr_fpr, mr_tpr, linestyle='--')\n",
    "plt.plot(lr_fpr, lr_tpr, marker='.')\n",
    "plt.xlabel('False Positive Rate')\n",
    "plt.ylabel('True Positive Rate')"
   ]
  },
  {
   "cell_type": "markdown",
   "metadata": {},
   "source": [
    "# Model assessment: Recall against Precision"
   ]
  },
  {
   "cell_type": "code",
   "execution_count": 7,
   "metadata": {},
   "outputs": [
    {
     "name": "stdout",
     "output_type": "stream",
     "text": [
      "Recall: 0.2329896907216495\n",
      "Precision: 0.738562091503268\n",
      "F1 Score: 0.35423197492163006\n"
     ]
    }
   ],
   "source": [
    "from sklearn.metrics import confusion_matrix\n",
    "from sklearn.metrics import precision_recall_curve, auc, average_precision_score, f1_score\n",
    "tn, fp, fn, tp = confusion_matrix(y_test, y_pred).ravel()\n",
    "print(\"Recall:\", tp/(tp+fn))\n",
    "print(\"Precision:\", tp/(tp+fp))\n",
    "print(\"F1 Score:\", f1_score(y_test, y_pred))"
   ]
  },
  {
   "cell_type": "code",
   "execution_count": 8,
   "metadata": {},
   "outputs": [
    {
     "name": "stdout",
     "output_type": "stream",
     "text": [
      "AUC for precision-recall curve: 0.5100542024868524\n",
      "AP score: 0.5103007745782324\n"
     ]
    },
    {
     "data": {
      "image/png": "[encoded data removed]",
      "text/plain": [
       "<Figure size 576x288 with 1 Axes>"
      ]
     },
     "metadata": {
      "needs_background": "light"
     },
     "output_type": "display_data"
    }
   ],
   "source": [
    "# mr_precision is the baseline precision determined by the proportion of positive\n",
    "\n",
    "mr_precision = np.mean(y_test)\n",
    "lr_precision, lr_recall, _ = precision_recall_curve(y_test, p_pred)\n",
    "\n",
    "# precision-recall curve may not be monotonic\n",
    "\n",
    "plt.figure(figsize=(8,4))\n",
    "plt.plot([0, 1], [mr_precision, mr_precision], linestyle='--')\n",
    "plt.plot(lr_recall, lr_precision, marker='.', label = 'Logistic')\n",
    "plt.xlabel('Recall')\n",
    "plt.ylabel('Precision')\n",
    "plt.legend()\n",
    "\n",
    "# PR AUC and AP score should be approximately the same\n",
    "\n",
    "print(\"AUC for precision-recall curve:\", auc(lr_recall, lr_precision))\n",
    "print(\"AP score:\", average_precision_score(y_test, p_pred))"
   ]
  },
  {
   "cell_type": "markdown",
   "metadata": {},
   "source": [
    "# Under-sampling"
   ]
  },
  {
   "cell_type": "code",
   "execution_count": null,
   "metadata": {},
   "outputs": [],
   "source": [
    "# Install the \"imblearn package\"\n",
    "pip install -U imbalanced-learn"
   ]
  },
  {
   "cell_type": "code",
   "execution_count": 32,
   "metadata": {},
   "outputs": [
    {
     "data": {
      "image/png": "[encoded data removed]",
      "text/plain": [
       "<Figure size 432x288 with 1 Axes>"
      ]
     },
     "metadata": {
      "needs_background": "light"
     },
     "output_type": "display_data"
    }
   ],
   "source": [
    "from imblearn.under_sampling import RandomUnderSampler\n",
    "import seaborn as sns\n",
    "undersample = RandomUnderSampler(sampling_strategy='majority', random_state = 0)\n",
    "x_train_under, y_train_under = undersample.fit_resample(x_train, y_train)\n",
    "\n",
    "ax = sns.countplot(x=y_train_under[\"default payment next month\"])\n",
    "for p in ax.patches:\n",
    "        ax.annotate('{:.1f}'.format(p.get_height()), (p.get_x()+0.3, p.get_height()+50))"
   ]
  },
  {
   "cell_type": "markdown",
   "metadata": {},
   "source": [
    "# Over-sampling"
   ]
  },
  {
   "cell_type": "code",
   "execution_count": 37,
   "metadata": {},
   "outputs": [
    {
     "data": {
      "image/png": "[encoded data removed]",
      "text/plain": [
       "<Figure size 432x288 with 1 Axes>"
      ]
     },
     "metadata": {
      "needs_background": "light"
     },
     "output_type": "display_data"
    }
   ],
   "source": [
    "from imblearn.over_sampling import RandomOverSampler\n",
    "oversample = RandomOverSampler(sampling_strategy='minority', random_state = 0)\n",
    "x_train_over, y_train_over = oversample.fit_resample(x_train, y_train)\n",
    "\n",
    "ax = sns.countplot(x=y_train_over[\"default payment next month\"])\n",
    "for p in ax.patches:\n",
    "        ax.annotate('{:.1f}'.format(p.get_height()), (p.get_x()+0.3, p.get_height()+50))"
   ]
  },
  {
   "cell_type": "markdown",
   "metadata": {},
   "source": [
    "# Cost-sensitive logistic regression"
   ]
  },
  {
   "cell_type": "code",
   "execution_count": null,
   "metadata": {},
   "outputs": [],
   "source": [
    "from sklearn.linear_model import LogisticRegression\n",
    "\n",
    "# solver='' specify the algorithm to be used for model estimation \n",
    "\n",
    "model = LogisticRegression(solver='newton-cg', max_iter=1000, class_weight='balanced')\n",
    "\n",
    "# y_train.values.ravel() is to convert dataframe to array\n",
    "\n",
    "lr = model.fit(x_train,y_train.values.ravel())\n",
    "print(lr.coef_)\n",
    "print(lr.intercept_)\n",
    "print(lr.predict(x_test))\n",
    "print(metrics.accuracy_score(y_test, lr.predict(x_test)))"
   ]
  },
  {
   "cell_type": "code",
   "execution_count": 107,
   "metadata": {},
   "outputs": [
    {
     "name": "stdout",
     "output_type": "stream",
     "text": [
      "Recall: 0.6443298969072165\n",
      "Precision: 0.37224538415723646\n",
      "F1 Score: 0.4718761796904492\n"
     ]
    }
   ],
   "source": [
    "y_pred = lr.predict(x_test)\n",
    "tn, fp, fn, tp = confusion_matrix(y_test, y_pred).ravel()\n",
    "print(\"Recall:\", tp/(tp+fn))\n",
    "print(\"Precision:\", tp/(tp+fp))\n",
    "print(\"F1 Score:\", f1_score(y_test, y_pred))"
   ]
  }
 ],
 "metadata": {
  "kernelspec": {
   "display_name": "Python 3 (ipykernel)",
   "language": "python",
   "name": "python3"
  },
  "language_info": {
   "codemirror_mode": {
    "name": "ipython",
    "version": 3
   },
   "file_extension": ".py",
   "mimetype": "text/x-python",
   "name": "python",
   "nbconvert_exporter": "python",
   "pygments_lexer": "ipython3",
   "version": "3.9.12"
  }
 },
 "nbformat": 4,
 "nbformat_minor": 4
}
