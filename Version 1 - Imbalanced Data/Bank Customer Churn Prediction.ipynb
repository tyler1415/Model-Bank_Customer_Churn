{
 "cells": [
  {
   "cell_type": "code",
   "execution_count": 12,
   "id": "e614033a",
   "metadata": {},
   "outputs": [],
   "source": [
    "import pandas as pd\n",
    "import numpy as np\n",
    "import matplotlib.pyplot as plt\n",
    "from sklearn.model_selection import train_test_split\n",
    "import statsmodels.api as sm\n",
    "from sklearn.metrics import roc_curve\n",
    "from sklearn.metrics import roc_auc_score\n",
    "from sklearn import metrics\n",
    "from sklearn.metrics import mean_squared_error\n",
    "import itertools"
   ]
  },
  {
   "cell_type": "markdown",
   "id": "9ff322e2",
   "metadata": {},
   "source": [
    "# Read Data"
   ]
  },
  {
   "cell_type": "code",
   "execution_count": 5,
   "id": "f685ad6e",
   "metadata": {},
   "outputs": [],
   "source": [
    "data = pd.read_csv(\"C:\\\\Users\\\\tgmce\\\\Downloads\\\\Bank Customer Churn Prediction_revised.csv\")\n",
    "x = data.iloc[:, :-1]\n",
    "y = data.iloc[:, -1:]\n",
    "x_train, x_test, y_train, y_test = train_test_split(x, y, test_size=0.30,random_state = 0)"
   ]
  },
  {
   "cell_type": "markdown",
   "id": "fa374436",
   "metadata": {},
   "source": [
    "# Build Model"
   ]
  },
  {
   "cell_type": "code",
   "execution_count": 6,
   "id": "105b25ec",
   "metadata": {},
   "outputs": [
    {
     "name": "stdout",
     "output_type": "stream",
     "text": [
      "Optimization terminated successfully.\n",
      "         Current function value: 0.435680\n",
      "         Iterations 6\n",
      "                           Logit Regression Results                           \n",
      "==============================================================================\n",
      "Dep. Variable:                  churn   No. Observations:                 7000\n",
      "Model:                          Logit   Df Residuals:                     6990\n",
      "Method:                           MLE   Df Model:                            9\n",
      "Date:                Wed, 02 Apr 2025   Pseudo R-squ.:                  0.1348\n",
      "Time:                        02:03:48   Log-Likelihood:                -3049.8\n",
      "converged:                       True   LL-Null:                       -3524.9\n",
      "Covariance Type:            nonrobust   LLR p-value:                9.177e-199\n",
      "====================================================================================\n",
      "                       coef    std err          z      P>|z|      [0.025      0.975]\n",
      "------------------------------------------------------------------------------------\n",
      "const               -3.1303      0.288    -10.869      0.000      -3.695      -2.566\n",
      "credit_score        -0.0009      0.000     -2.711      0.007      -0.002      -0.000\n",
      "gender              -0.5389      0.065     -8.347      0.000      -0.665      -0.412\n",
      "age                  0.0715      0.003     23.475      0.000       0.066       0.077\n",
      "tenure              -0.0283      0.011     -2.551      0.011      -0.050      -0.007\n",
      "balance           5.012e-06   5.49e-07      9.130      0.000    3.94e-06    6.09e-06\n",
      "products_number     -0.1165      0.057     -2.053      0.040      -0.228      -0.005\n",
      "credit_card         -0.0186      0.070     -0.265      0.791      -0.156       0.119\n",
      "active_member       -1.0000      0.068    -14.736      0.000      -1.133      -0.867\n",
      "estimated_salary  6.968e-07    5.6e-07      1.244      0.214   -4.01e-07     1.8e-06\n",
      "====================================================================================\n"
     ]
    }
   ],
   "source": [
    "model=sm.Logit(y_train, sm.add_constant(x_train))\n",
    "lr = model.fit()\n",
    "print(lr.summary())"
   ]
  },
  {
   "cell_type": "markdown",
   "id": "dfd8bfd7",
   "metadata": {},
   "source": [
    "# Make Prediction on Training and Testing Sample"
   ]
  },
  {
   "cell_type": "code",
   "execution_count": 7,
   "id": "9f2e18db",
   "metadata": {},
   "outputs": [],
   "source": [
    "p_pred_train = lr.predict(sm.add_constant(x_train))\n",
    "p_pred_test = lr.predict(sm.add_constant(x_test))"
   ]
  },
  {
   "cell_type": "markdown",
   "id": "021c223e",
   "metadata": {},
   "source": [
    "# ROC Curve for Testing Sample"
   ]
  },
  {
   "cell_type": "code",
   "execution_count": 8,
   "id": "442d3518",
   "metadata": {},
   "outputs": [
    {
     "name": "stdout",
     "output_type": "stream",
     "text": [
      "AUC for training sample is: 0.7519720640490182\n"
     ]
    },
    {
     "data": {
      "image/png": "[encoded data removed]",
      "text/plain": [
       "<Figure size 432x288 with 1 Axes>"
      ]
     },
     "metadata": {
      "needs_background": "light"
     },
     "output_type": "display_data"
    }
   ],
   "source": [
    "mr_probs = [0 for _ in range(len(y_train))]\n",
    "mr_fpr, mr_tpr, _ = roc_curve(y_train, mr_probs)\n",
    "lr_fpr, lr_tpr, _ = roc_curve(y_train, p_pred_train)\n",
    "plt.plot(mr_fpr, mr_tpr, linestyle='--')\n",
    "plt.plot(lr_fpr, lr_tpr, marker='.')\n",
    "plt.xlabel('False Positive Rate')\n",
    "plt.ylabel('True Positive Rate')\n",
    "plt.title('ROC curve for training sample')\n",
    "print('AUC for training sample is:', metrics.auc(lr_fpr, lr_tpr))"
   ]
  },
  {
   "cell_type": "markdown",
   "id": "c65396fc",
   "metadata": {},
   "source": [
    "# Report Confusion Matrix"
   ]
  },
  {
   "cell_type": "code",
   "execution_count": 9,
   "id": "d3cb6cac",
   "metadata": {},
   "outputs": [
    {
     "name": "stdout",
     "output_type": "stream",
     "text": [
      "Confusion matrix is: [[2305   74]\n",
      " [ 517  104]]\n",
      "MR: 0.197\n",
      "TPR: 0.16747181964573268\n",
      "FNR: 0.8325281803542673\n"
     ]
    }
   ],
   "source": [
    "from sklearn.metrics import confusion_matrix\n",
    "y_pred = round(p_pred_test)\n",
    "print('Confusion matrix is:', confusion_matrix(y_test, y_pred))\n",
    "tn, fp, fn, tp = confusion_matrix(y_test, y_pred).ravel()\n",
    "print('MR:', (fp+fn)/(tn+fp+fn+tp))\n",
    "print('TPR:', tp/(tp+fn))\n",
    "print('FNR:', fn/(tp+fn))"
   ]
  },
  {
   "cell_type": "markdown",
   "id": "b8a37fa0",
   "metadata": {},
   "source": [
    "# Conduct Backwards Stepwise Selection"
   ]
  },
  {
   "cell_type": "code",
   "execution_count": 13,
   "id": "a1e7b4f9",
   "metadata": {},
   "outputs": [
    {
     "name": "stdout",
     "output_type": "stream",
     "text": [
      "Optimization terminated successfully.\n",
      "         Current function value: 0.435680\n",
      "         Iterations 6\n",
      "Optimization terminated successfully.\n",
      "         Current function value: 0.435790\n",
      "         Iterations 6\n",
      "Optimization terminated successfully.\n",
      "         Current function value: 0.452177\n",
      "         Iterations 6\n",
      "Optimization terminated successfully.\n",
      "         Current function value: 0.435685\n",
      "         Iterations 6\n",
      "Optimization terminated successfully.\n",
      "         Current function value: 0.435983\n",
      "         Iterations 6\n",
      "Optimization terminated successfully.\n",
      "         Current function value: 0.441763\n",
      "         Iterations 6\n",
      "Optimization terminated successfully.\n",
      "         Current function value: 0.436146\n",
      "         Iterations 6\n",
      "Optimization terminated successfully.\n",
      "         Current function value: 0.478330\n",
      "         Iterations 6\n",
      "Optimization terminated successfully.\n",
      "         Current function value: 0.440704\n",
      "         Iterations 6\n",
      "Optimization terminated successfully.\n",
      "         Current function value: 0.436206\n",
      "         Iterations 6\n",
      "Optimization terminated successfully.\n",
      "         Current function value: 0.435685\n",
      "         Iterations 6\n",
      "Optimization terminated successfully.\n",
      "         Current function value: 0.435796\n",
      "         Iterations 6\n",
      "Optimization terminated successfully.\n",
      "         Current function value: 0.452177\n",
      "         Iterations 6\n",
      "Optimization terminated successfully.\n",
      "         Current function value: 0.435988\n",
      "         Iterations 6\n",
      "Optimization terminated successfully.\n",
      "         Current function value: 0.441776\n",
      "         Iterations 6\n",
      "Optimization terminated successfully.\n",
      "         Current function value: 0.436153\n",
      "         Iterations 6\n",
      "Optimization terminated successfully.\n",
      "         Current function value: 0.478362\n",
      "         Iterations 6\n",
      "Optimization terminated successfully.\n",
      "         Current function value: 0.440713\n",
      "         Iterations 6\n",
      "Optimization terminated successfully.\n",
      "         Current function value: 0.436211\n",
      "         Iterations 6\n",
      "Optimization terminated successfully.\n",
      "         Current function value: 0.435796\n",
      "         Iterations 6\n",
      "Optimization terminated successfully.\n",
      "         Current function value: 0.452309\n",
      "         Iterations 6\n",
      "Optimization terminated successfully.\n",
      "         Current function value: 0.436095\n",
      "         Iterations 6\n",
      "Optimization terminated successfully.\n",
      "         Current function value: 0.441899\n",
      "         Iterations 6\n",
      "Optimization terminated successfully.\n",
      "         Current function value: 0.436254\n",
      "         Iterations 6\n",
      "Optimization terminated successfully.\n",
      "         Current function value: 0.478449\n",
      "         Iterations 6\n",
      "Optimization terminated successfully.\n",
      "         Current function value: 0.440832\n",
      "         Iterations 6\n",
      "Optimization terminated successfully.\n",
      "         Current function value: 0.436328\n",
      "         Iterations 6\n",
      "Optimization terminated successfully.\n",
      "         Current function value: 0.436095\n",
      "         Iterations 6\n",
      "Optimization terminated successfully.\n",
      "         Current function value: 0.452621\n",
      "         Iterations 6\n",
      "Optimization terminated successfully.\n",
      "         Current function value: 0.443595\n",
      "         Iterations 6\n",
      "Optimization terminated successfully.\n",
      "         Current function value: 0.436556\n",
      "         Iterations 6\n",
      "Optimization terminated successfully.\n",
      "         Current function value: 0.478893\n",
      "         Iterations 6\n",
      "Optimization terminated successfully.\n",
      "         Current function value: 0.441045\n",
      "         Iterations 6\n",
      "Optimization terminated successfully.\n",
      "         Current function value: 0.436636\n",
      "         Iterations 6\n",
      "Optimization terminated successfully.\n",
      "         Current function value: 0.436636\n",
      "         Iterations 6\n",
      "Optimization terminated successfully.\n",
      "         Current function value: 0.453384\n",
      "         Iterations 6\n",
      "Optimization terminated successfully.\n",
      "         Current function value: 0.444163\n",
      "         Iterations 6\n",
      "Optimization terminated successfully.\n",
      "         Current function value: 0.437091\n",
      "         Iterations 6\n",
      "Optimization terminated successfully.\n",
      "         Current function value: 0.479501\n",
      "         Iterations 6\n",
      "Optimization terminated successfully.\n",
      "         Current function value: 0.441549\n",
      "         Iterations 6\n",
      "Optimization terminated successfully.\n",
      "         Current function value: 0.437091\n",
      "         Iterations 6\n",
      "Optimization terminated successfully.\n",
      "         Current function value: 0.453702\n",
      "         Iterations 6\n",
      "Optimization terminated successfully.\n",
      "         Current function value: 0.444582\n",
      "         Iterations 6\n",
      "Optimization terminated successfully.\n",
      "         Current function value: 0.479960\n",
      "         Iterations 6\n",
      "Optimization terminated successfully.\n",
      "         Current function value: 0.442066\n",
      "         Iterations 6\n",
      "Optimization terminated successfully.\n",
      "         Current function value: 0.442066\n",
      "         Iterations 6\n",
      "Optimization terminated successfully.\n",
      "         Current function value: 0.458762\n",
      "         Iterations 6\n",
      "Optimization terminated successfully.\n",
      "         Current function value: 0.449350\n",
      "         Iterations 6\n",
      "Optimization terminated successfully.\n",
      "         Current function value: 0.485926\n",
      "         Iterations 6\n",
      "Optimization terminated successfully.\n",
      "         Current function value: 0.449350\n",
      "         Iterations 6\n",
      "Optimization terminated successfully.\n",
      "         Current function value: 0.466370\n",
      "         Iterations 6\n",
      "Optimization terminated successfully.\n",
      "         Current function value: 0.493376\n",
      "         Iterations 6\n",
      "Optimization terminated successfully.\n",
      "         Current function value: 0.466370\n",
      "         Iterations 6\n",
      "                                               model       MSE           AIC\n",
      "0  <statsmodels.discrete.discrete_model.BinaryRes...  0.138665 -13809.885481\n",
      "1  <statsmodels.discrete.discrete_model.BinaryRes...  0.138662 -13811.988022\n",
      "2  <statsmodels.discrete.discrete_model.BinaryRes...  0.138714 -13811.404375\n",
      "3  <statsmodels.discrete.discrete_model.BinaryRes...  0.138788 -13809.653194\n",
      "4  <statsmodels.discrete.discrete_model.BinaryRes...  0.138936 -13804.168032\n",
      "5  <statsmodels.discrete.discrete_model.BinaryRes...  0.139093 -13798.290906\n",
      "6  <statsmodels.discrete.discrete_model.BinaryRes...  0.140540 -13727.832676\n",
      "7  <statsmodels.discrete.discrete_model.BinaryRes...  0.142697 -13623.242482\n",
      "8  <statsmodels.discrete.discrete_model.BinaryRes...  0.150675 -13244.395673\n"
     ]
    },
    {
     "data": {
      "text/plain": [
       "Text(0, 0.5, 'aic')"
      ]
     },
     "execution_count": 13,
     "metadata": {},
     "output_type": "execute_result"
    },
    {
     "data": {
      "image/png": "[encoded data removed]",
      "text/plain": [
       "<Figure size 432x288 with 1 Axes>"
      ]
     },
     "metadata": {
      "needs_background": "light"
     },
     "output_type": "display_data"
    }
   ],
   "source": [
    "def fit_lr(feature_set):\n",
    "    model = sm.Logit(y_train, sm.add_constant(x_train[list(feature_set)]))\n",
    "    lr = model.fit()\n",
    "    MSE = mean_squared_error(lr.predict(sm.add_constant(x_train[list(feature_set)])),y_train)\n",
    "    AIC = len(x_train)*np.log(MSE)+2*len(lr.params)\n",
    "    return {\"model\":lr, \"MSE\":MSE, \"AIC\":AIC}\n",
    "\n",
    "def getbest(k):\n",
    "    result = []\n",
    "    for combo in itertools.combinations(x_train.columns, k):\n",
    "        result.append(fit_lr(combo))\n",
    "    models = pd.DataFrame(result)\n",
    "    best_model = models.loc[models['MSE'].argmin()]\n",
    "    return best_model\n",
    "\n",
    "picked = list(x_train.columns)\n",
    "models_best = pd.DataFrame(columns=[\"model\",\"MSE\",\"AIC\"])\n",
    "models_best.loc[0] = fit_lr(picked)\n",
    "for i in range(1,9):\n",
    "    best_MSE = np.inf\n",
    "    for combo in itertools.combinations(picked,len(picked)-1):\n",
    "        MSE = fit_lr(list(combo))[\"MSE\"]\n",
    "        if MSE < best_MSE:\n",
    "            best_MSE = MSE\n",
    "            best_feature = combo\n",
    "    picked = best_feature\n",
    "    models_best.loc[i] = fit_lr(list(picked))\n",
    "print(models_best)\n",
    "plt.plot(models_best[\"AIC\"])\n",
    "plt.xlabel('# Predictors')\n",
    "plt.ylabel('aic')"
   ]
  },
  {
   "cell_type": "markdown",
   "id": "86528d96",
   "metadata": {},
   "source": [
    "# Return Best Model"
   ]
  },
  {
   "cell_type": "code",
   "execution_count": 14,
   "id": "92787c36",
   "metadata": {},
   "outputs": [
    {
     "name": "stdout",
     "output_type": "stream",
     "text": [
      "                           Logit Regression Results                           \n",
      "==============================================================================\n",
      "Dep. Variable:                  churn   No. Observations:                 7000\n",
      "Model:                          Logit   Df Residuals:                     6991\n",
      "Method:                           MLE   Df Model:                            8\n",
      "Date:                Wed, 02 Apr 2025   Pseudo R-squ.:                  0.1348\n",
      "Time:                        02:05:54   Log-Likelihood:                -3049.8\n",
      "converged:                       True   LL-Null:                       -3524.9\n",
      "Covariance Type:            nonrobust   LLR p-value:                8.441e-200\n",
      "====================================================================================\n",
      "                       coef    std err          z      P>|z|      [0.025      0.975]\n",
      "------------------------------------------------------------------------------------\n",
      "const               -3.1437      0.284    -11.087      0.000      -3.699      -2.588\n",
      "credit_score        -0.0009      0.000     -2.712      0.007      -0.002      -0.000\n",
      "gender              -0.5390      0.065     -8.350      0.000      -0.666      -0.413\n",
      "age                  0.0715      0.003     23.481      0.000       0.066       0.078\n",
      "tenure              -0.0284      0.011     -2.558      0.011      -0.050      -0.007\n",
      "balance           5.014e-06   5.49e-07      9.135      0.000    3.94e-06    6.09e-06\n",
      "products_number     -0.1165      0.057     -2.052      0.040      -0.228      -0.005\n",
      "active_member       -0.9996      0.068    -14.734      0.000      -1.133      -0.867\n",
      "estimated_salary   6.97e-07    5.6e-07      1.244      0.214   -4.01e-07     1.8e-06\n",
      "====================================================================================\n"
     ]
    }
   ],
   "source": [
    "print(models_best.loc[1, \"model\"].summary())"
   ]
  },
  {
   "cell_type": "markdown",
   "id": "ace99f44",
   "metadata": {},
   "source": [
    "# Obtain AUC"
   ]
  },
  {
   "cell_type": "code",
   "execution_count": 16,
   "id": "8bc77f85",
   "metadata": {},
   "outputs": [
    {
     "name": "stdout",
     "output_type": "stream",
     "text": [
      "AUC for testing sample is: 0.7648574246340937\n"
     ]
    }
   ],
   "source": [
    "lr_backward = models_best.loc[1, \"model\"]\n",
    "p_pred_test = lr_backward.predict(sm.add_constant(x_test[['credit_score','gender','age','tenure','balance','products_number','active_member','estimated_salary']]))\n",
    "mr_probs = [0 for _ in range(len(y_test))]\n",
    "mr_fpr, mr_tpr, _ = roc_curve(y_test, mr_probs)\n",
    "lr_fpr, lr_tpr, _ = roc_curve(y_test, p_pred_test)\n",
    "print('AUC for testing sample is:', metrics.auc(lr_fpr, lr_tpr))"
   ]
  },
  {
   "cell_type": "code",
   "execution_count": null,
   "id": "0af97181",
   "metadata": {},
   "outputs": [],
   "source": []
  }
 ],
 "metadata": {
  "kernelspec": {
   "display_name": "Python 3 (ipykernel)",
   "language": "python",
   "name": "python3"
  },
  "language_info": {
   "codemirror_mode": {
    "name": "ipython",
    "version": 3
   },
   "file_extension": ".py",
   "mimetype": "text/x-python",
   "name": "python",
   "nbconvert_exporter": "python",
   "pygments_lexer": "ipython3",
   "version": "3.9.12"
  }
 },
 "nbformat": 4,
 "nbformat_minor": 5
}
